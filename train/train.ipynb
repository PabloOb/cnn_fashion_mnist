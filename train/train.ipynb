{
 "cells": [
  {
   "cell_type": "code",
   "execution_count": 1,
   "metadata": {},
   "outputs": [],
   "source": [
    "# Necessary imports\n",
    "import tensorflow as tf\n",
    "import pandas as pd\n",
    "import numpy as np\n",
    "import seaborn as sns\n",
    "\n",
    "\n",
    "# Plotting setup\n",
    "import matplotlib.pyplot as plt\n",
    "%matplotlib inline\n",
    "plt.rcParams['figure.figsize'] = (16, 9)\n",
    "\n",
    "# Keep the machine usable during training by limiting the GPU memory usage\n",
    "from tensorflow.compat.v1 import ConfigProto\n",
    "from tensorflow.compat.v1 import InteractiveSession\n",
    "\n",
    "config = ConfigProto()\n",
    "config.gpu_options.per_process_gpu_memory_fraction = 0.8\n",
    "config.gpu_options.allow_growth = True\n",
    "session = InteractiveSession(config=config)"
   ]
  },
  {
   "cell_type": "markdown",
   "metadata": {},
   "source": [
    "# Get data"
   ]
  },
  {
   "cell_type": "code",
   "execution_count": 2,
   "metadata": {},
   "outputs": [
    {
     "name": "stdout",
     "output_type": "stream",
     "text": [
      "(60000, 28, 28)\n"
     ]
    }
   ],
   "source": [
    "from tensorflow.keras.datasets import fashion_mnist\n",
    "\n",
    "(x_train, y_train), (x_test, y_test) = fashion_mnist.load_data()\n",
    "print(x_train.shape)"
   ]
  },
  {
   "cell_type": "markdown",
   "metadata": {},
   "source": [
    "# Quick look at the data"
   ]
  },
  {
   "cell_type": "markdown",
   "metadata": {},
   "source": [
    "The Fashion MNIST dataset includes:\n",
    "\n",
    "1. 60,000 training examples\n",
    "2. 10,000 testing examples\n",
    "3. 10 classes\n",
    "4. 28×28 grayscale/single channel images\n",
    "\n",
    "The ten fashion class labels include:\n",
    "\n",
    "1. T-shirt/top\n",
    "2. Trouser/pants\n",
    "3. Pullover shirt\n",
    "4. Dress\n",
    "5. Coat\n",
    "6. Sandal\n",
    "7. Shirt\n",
    "8. Sneaker\n",
    "9. Bag\n",
    "10. Ankle boot\n"
   ]
  },
  {
   "cell_type": "code",
   "execution_count": 227,
   "metadata": {},
   "outputs": [
    {
     "data": {
      "text/plain": [
       "(60000, 28, 28, 1)"
      ]
     },
     "execution_count": 227,
     "metadata": {},
     "output_type": "execute_result"
    }
   ],
   "source": [
    "x_train.shape"
   ]
  },
  {
   "cell_type": "code",
   "execution_count": 228,
   "metadata": {},
   "outputs": [
    {
     "data": {
      "text/plain": [
       "(60000,)"
      ]
     },
     "execution_count": 228,
     "metadata": {},
     "output_type": "execute_result"
    }
   ],
   "source": [
    "y_train.shape"
   ]
  },
  {
   "cell_type": "markdown",
   "metadata": {},
   "source": [
    "### Reshape data to match the input requirements "
   ]
  },
  {
   "cell_type": "markdown",
   "metadata": {},
   "source": [
    "### Check the distribution"
   ]
  },
  {
   "cell_type": "code",
   "execution_count": 20,
   "metadata": {},
   "outputs": [
    {
     "data": {
      "image/png": "[encoded data removed]",
      "text/plain": [
       "<Figure size 1152x648 with 1 Axes>"
      ]
     },
     "metadata": {
      "needs_background": "light"
     },
     "output_type": "display_data"
    }
   ],
   "source": [
    "g = sns.countplot(y_train, )"
   ]
  },
  {
   "cell_type": "markdown",
   "metadata": {},
   "source": [
    "Since the examples are evenly distributed between classes we do not need to stratified sampling. "
   ]
  },
  {
   "cell_type": "markdown",
   "metadata": {},
   "source": [
    "### Check for NaNs"
   ]
  },
  {
   "cell_type": "markdown",
   "metadata": {},
   "source": [
    "Once again, since we are dealing with a training dataset we do not expect any null values. We still check, for the sake of completeness"
   ]
  },
  {
   "cell_type": "code",
   "execution_count": 26,
   "metadata": {},
   "outputs": [
    {
     "name": "stdout",
     "output_type": "stream",
     "text": [
      "False\n"
     ]
    }
   ],
   "source": [
    "print(np.isnan(x_train).any())"
   ]
  },
  {
   "cell_type": "markdown",
   "metadata": {},
   "source": [
    "# Create model"
   ]
  },
  {
   "cell_type": "markdown",
   "metadata": {},
   "source": [
    "A standard conv-net with 3 layers and drop-out/normalization between each layer will be used."
   ]
  },
  {
   "cell_type": "code",
   "execution_count": 5,
   "metadata": {},
   "outputs": [
    {
     "data": {
      "text/plain": [
       "(60000, 28, 28, 1)"
      ]
     },
     "execution_count": 5,
     "metadata": {},
     "output_type": "execute_result"
    }
   ],
   "source": [
    "# add empty color dimension\n",
    "# Change shape from (60000, 28, 28) to (60000, 28, 28, 1)\n",
    "# (number_of_images, image_height, _image_width, channels)\n",
    "x_train = np.expand_dims(x_train, -1) \n",
    "x_test = np.expand_dims(x_test, -1)\n",
    "x_train.shape"
   ]
  },
  {
   "cell_type": "markdown",
   "metadata": {},
   "source": [
    "### Define callbacks"
   ]
  },
  {
   "cell_type": "code",
   "execution_count": 8,
   "metadata": {},
   "outputs": [],
   "source": [
    "from tensorflow.keras.callbacks import EarlyStopping, ReduceLROnPlateau\n",
    "\n",
    "# To prevent overfitting the training will be stopped if the val_loss has not decreased in 5 epochs\n",
    "earlystop = EarlyStopping(patience=5) \n",
    "\n",
    "# Decrease learning rate if the accuracy is not increased for 2 steps\n",
    "learning_rate_reduction = ReduceLROnPlateau(monitor='val_sparse_categorical_accuracy', \n",
    "                                            patience=2, \n",
    "                                            verbose=1, \n",
    "                                            factor=0.5, \n",
    "                                            min_lr=0.00001)\n",
    "\n",
    "callbacks = [earlystop, learning_rate_reduction]"
   ]
  },
  {
   "cell_type": "code",
   "execution_count": 45,
   "metadata": {},
   "outputs": [],
   "source": [
    "model = create_model()\n",
    "model.compile(optimizer='adam',\n",
    "              loss='sparse_categorical_crossentropy',\n",
    "              metrics=['sparse_categorical_accuracy'])"
   ]
  },
  {
   "cell_type": "code",
   "execution_count": 7,
   "metadata": {},
   "outputs": [],
   "source": [
    "from tensorflow.keras.models import Sequential\n",
    "from tensorflow.keras.layers import Conv2D, MaxPooling2D, Dropout, BatchNormalization, Flatten, Dense\n",
    "\n",
    "\n",
    "def create_model():\n",
    "    model = Sequential()\n",
    "\n",
    "    # Add layers\n",
    "    model.add(Conv2D(64, (5, 5), padding='same', activation='relu'))\n",
    "    model.add(MaxPooling2D(pool_size=(2, 2), strides=(2,2)))\n",
    "    model.add(Dropout(0.25))\n",
    "\n",
    "    model.add(BatchNormalization(input_shape=x_train.shape[1:]))\n",
    "    model.add(Conv2D(128, (5, 5), padding='same', activation='relu'))\n",
    "    model.add(MaxPooling2D(pool_size=(2, 2)))\n",
    "    model.add(Dropout(0.25))\n",
    "\n",
    "    model.add(BatchNormalization(input_shape=x_train.shape[1:]))\n",
    "    model.add(Conv2D(256, (5, 5), padding='same', activation='relu'))\n",
    "    model.add(MaxPooling2D(pool_size=(2, 2), strides=(2,2)))\n",
    "    model.add(Dropout(0.25))\n",
    "\n",
    "    model.add(Flatten())\n",
    "    model.add(Dense(256, activation='relu'))\n",
    "    model.add(Dropout(0.5))\n",
    "    model.add(Dense(10, activation='softmax'))\n",
    "    return model"
   ]
  },
  {
   "cell_type": "code",
   "execution_count": 46,
   "metadata": {},
   "outputs": [
    {
     "name": "stdout",
     "output_type": "stream",
     "text": [
      "Train on 60000 samples, validate on 10000 samples\n",
      "Epoch 1/40\n",
      "60000/60000 [==============================] - 22s 364us/sample - loss: 0.5512 - sparse_categorical_accuracy: 0.8040 - val_loss: 0.3568 - val_sparse_categorical_accuracy: 0.8640\n",
      "Epoch 2/40\n",
      "60000/60000 [==============================] - 21s 348us/sample - loss: 0.3697 - sparse_categorical_accuracy: 0.8676 - val_loss: 0.3220 - val_sparse_categorical_accuracy: 0.8770\n",
      "Epoch 3/40\n",
      "60000/60000 [==============================] - 21s 342us/sample - loss: 0.3323 - sparse_categorical_accuracy: 0.8808 - val_loss: 0.2969 - val_sparse_categorical_accuracy: 0.8914\n",
      "Epoch 4/40\n",
      "60000/60000 [==============================] - 20s 340us/sample - loss: 0.3012 - sparse_categorical_accuracy: 0.8907 - val_loss: 0.2856 - val_sparse_categorical_accuracy: 0.8966\n",
      "Epoch 5/40\n",
      "60000/60000 [==============================] - 21s 356us/sample - loss: 0.2842 - sparse_categorical_accuracy: 0.8974 - val_loss: 0.2664 - val_sparse_categorical_accuracy: 0.9026\n",
      "Epoch 6/40\n",
      "60000/60000 [==============================] - 21s 351us/sample - loss: 0.2667 - sparse_categorical_accuracy: 0.9043 - val_loss: 0.2631 - val_sparse_categorical_accuracy: 0.9074\n",
      "Epoch 7/40\n",
      "60000/60000 [==============================] - 21s 353us/sample - loss: 0.2579 - sparse_categorical_accuracy: 0.9078 - val_loss: 0.2624 - val_sparse_categorical_accuracy: 0.9097\n",
      "Epoch 8/40\n",
      "60000/60000 [==============================] - 21s 342us/sample - loss: 0.2473 - sparse_categorical_accuracy: 0.9104 - val_loss: 0.2612 - val_sparse_categorical_accuracy: 0.9147\n",
      "Epoch 9/40\n",
      "60000/60000 [==============================] - 21s 343us/sample - loss: 0.2363 - sparse_categorical_accuracy: 0.9138 - val_loss: 0.2490 - val_sparse_categorical_accuracy: 0.9158\n",
      "Epoch 10/40\n",
      "60000/60000 [==============================] - 20s 341us/sample - loss: 0.2285 - sparse_categorical_accuracy: 0.9164 - val_loss: 0.2342 - val_sparse_categorical_accuracy: 0.9187\n",
      "Epoch 11/40\n",
      "60000/60000 [==============================] - 21s 350us/sample - loss: 0.2178 - sparse_categorical_accuracy: 0.9204 - val_loss: 0.2303 - val_sparse_categorical_accuracy: 0.9196\n",
      "Epoch 12/40\n",
      "60000/60000 [==============================] - 21s 342us/sample - loss: 0.2158 - sparse_categorical_accuracy: 0.9222 - val_loss: 0.2269 - val_sparse_categorical_accuracy: 0.9221\n",
      "Epoch 13/40\n",
      "60000/60000 [==============================] - 21s 343us/sample - loss: 0.2031 - sparse_categorical_accuracy: 0.9258 - val_loss: 0.2271 - val_sparse_categorical_accuracy: 0.9198\n",
      "Epoch 14/40\n",
      "59904/60000 [============================>.] - ETA: 0s - loss: 0.1956 - sparse_categorical_accuracy: 0.9281\n",
      "Epoch 00014: ReduceLROnPlateau reducing learning rate to 0.0005000000237487257.\n",
      "60000/60000 [==============================] - 21s 344us/sample - loss: 0.1956 - sparse_categorical_accuracy: 0.9281 - val_loss: 0.2347 - val_sparse_categorical_accuracy: 0.9171\n",
      "Epoch 15/40\n",
      "60000/60000 [==============================] - 21s 351us/sample - loss: 0.1639 - sparse_categorical_accuracy: 0.9395 - val_loss: 0.2247 - val_sparse_categorical_accuracy: 0.9258\n",
      "Epoch 16/40\n",
      "60000/60000 [==============================] - 21s 353us/sample - loss: 0.1538 - sparse_categorical_accuracy: 0.9435 - val_loss: 0.2150 - val_sparse_categorical_accuracy: 0.9261\n",
      "Epoch 17/40\n",
      "60000/60000 [==============================] - 21s 351us/sample - loss: 0.1456 - sparse_categorical_accuracy: 0.9445 - val_loss: 0.2186 - val_sparse_categorical_accuracy: 0.9262\n",
      "Epoch 18/40\n",
      "60000/60000 [==============================] - 21s 350us/sample - loss: 0.1417 - sparse_categorical_accuracy: 0.9470 - val_loss: 0.2312 - val_sparse_categorical_accuracy: 0.9300\n",
      "Epoch 19/40\n",
      "60000/60000 [==============================] - 21s 351us/sample - loss: 0.1384 - sparse_categorical_accuracy: 0.9482 - val_loss: 0.2242 - val_sparse_categorical_accuracy: 0.9260\n",
      "Epoch 20/40\n",
      "59840/60000 [============================>.] - ETA: 0s - loss: 0.1320 - sparse_categorical_accuracy: 0.9512\n",
      "Epoch 00020: ReduceLROnPlateau reducing learning rate to 0.0002500000118743628.\n",
      "60000/60000 [==============================] - 21s 351us/sample - loss: 0.1318 - sparse_categorical_accuracy: 0.9513 - val_loss: 0.2389 - val_sparse_categorical_accuracy: 0.9239\n",
      "Epoch 21/40\n",
      "60000/60000 [==============================] - 20s 325us/sample - loss: 0.1193 - sparse_categorical_accuracy: 0.9553 - val_loss: 0.2211 - val_sparse_categorical_accuracy: 0.9312\n"
     ]
    }
   ],
   "source": [
    "history = model.fit(\n",
    "    x_train.astype(np.float32),\n",
    "    y_train.astype(np.float32),\n",
    "    validation_data=(x_test.astype(np.float32), y_test.astype(np.float32)),\n",
    "    validation_freq=1,\n",
    "    epochs=40,\n",
    "    callbacks=callbacks\n",
    ")"
   ]
  },
  {
   "cell_type": "markdown",
   "metadata": {},
   "source": [
    "We are able to obtain above 93% accuracy after 21 epochs(7 minutes of training on GTX1060 GPU), which is enough for our purposes. In order to further increase the accuracy we could try adding more layers, but this would in turn increase the size and complexity of the model, thus increasing the time required to make a prediction. "
   ]
  },
  {
   "cell_type": "markdown",
   "metadata": {},
   "source": [
    "## Save created model"
   ]
  },
  {
   "cell_type": "code",
   "execution_count": 15,
   "metadata": {},
   "outputs": [
    {
     "name": "stdout",
     "output_type": "stream",
     "text": [
      "INFO:tensorflow:Assets written to: ../model/1/assets\n"
     ]
    }
   ],
   "source": [
    "tf.saved_model.save(model, \"../model/1/\")"
   ]
  },
  {
   "cell_type": "markdown",
   "metadata": {},
   "source": [
    "# Evaluate Model"
   ]
  },
  {
   "cell_type": "markdown",
   "metadata": {},
   "source": [
    "## Plot training history"
   ]
  },
  {
   "cell_type": "code",
   "execution_count": 69,
   "metadata": {},
   "outputs": [
    {
     "data": {
      "image/png": "[encoded data removed]",
      "text/plain": [
       "<Figure size 1152x648 with 2 Axes>"
      ]
     },
     "metadata": {
      "needs_background": "light"
     },
     "output_type": "display_data"
    }
   ],
   "source": [
    "# Plot the loss and accuracy curves for training and validation \n",
    "fig, ax = plt.subplots(2,1)\n",
    "plt.setp(ax, xticks = np.arange(0, 22, step=2))\n",
    "ax[0].plot(history.history['loss'], color='b', label=\"Training loss\")\n",
    "ax[0].plot(history.history['val_loss'], color='r', label=\"Validation loss\",axes =ax[0])\n",
    "legend = ax[0].legend(loc='upper right', shadow=True)\n",
    "\n",
    "ax[1].plot(history.history['sparse_categorical_accuracy'], color='b', label=\"Training accuracy\")\n",
    "ax[1].plot(history.history['val_sparse_categorical_accuracy'], color='r',label=\"Validation accuracy\")\n",
    "legend = ax[1].legend(loc='lower right', shadow=True)"
   ]
  },
  {
   "cell_type": "markdown",
   "metadata": {},
   "source": [
    "The training has been stopped after the validation loss has not decreased in 5 iterations. The accuracy on training set was still increasing which could indicate possible overfitting if the model was trained for longer. "
   ]
  },
  {
   "cell_type": "markdown",
   "metadata": {},
   "source": [
    "For longer and more complex training TensorBoard would be a much better solution for providing visualizations of the learning process. It can be set up by providing additional callback to the model. "
   ]
  },
  {
   "cell_type": "markdown",
   "metadata": {},
   "source": [
    "# Confussion matrix"
   ]
  },
  {
   "cell_type": "code",
   "execution_count": 97,
   "metadata": {},
   "outputs": [],
   "source": [
    "from sklearn.metrics import confusion_matrix\n",
    "predictions = model.predict(x_test.astype(np.float32))\n",
    "predictions = [i.argmax() for i in predictions]"
   ]
  },
  {
   "cell_type": "code",
   "execution_count": 99,
   "metadata": {},
   "outputs": [
    {
     "data": {
      "text/plain": [
       "Text(123.0, 0.5, 'Actual')"
      ]
     },
     "execution_count": 99,
     "metadata": {},
     "output_type": "execute_result"
    },
    {
     "data": {
      "image/png": "[encoded data removed]",
      "text/plain": [
       "<Figure size 1152x648 with 2 Axes>"
      ]
     },
     "metadata": {
      "needs_background": "light"
     },
     "output_type": "display_data"
    }
   ],
   "source": [
    "matrix = confusion_matrix(predictions, y_test)\n",
    "plt.figure(figsize=(16,9))\n",
    "sns.heatmap(matrix, annot=True, fmt=\"d\", cmap='Blues_r')\n",
    "plt.title('Confussion matrix for CNN Fashion MNIST model')\n",
    "plt.xlabel('Predicted')\n",
    "plt.ylabel('Actual')"
   ]
  },
  {
   "cell_type": "markdown",
   "metadata": {},
   "source": [
    "On the confusion matrix we can see that we are getting very high accuracy for majority of classess. The most troublesome is class 6 - shirt, which is usually confused with T-shirt and vice versa. These two classes are very similiar to each other and could be problematic to distinguish even for a human when viewed as an 28x28 image."
   ]
  },
  {
   "cell_type": "markdown",
   "metadata": {},
   "source": [
    "# Prepare data for testing the deployment"
   ]
  },
  {
   "cell_type": "markdown",
   "metadata": {},
   "source": [
    "### Save test json payload with 10 images"
   ]
  },
  {
   "cell_type": "code",
   "execution_count": 222,
   "metadata": {},
   "outputs": [],
   "source": [
    "import json\n",
    "data = json.dumps({\"signature_name\": \"serving_default\", \"instances\": x_test[0:10].tolist()})\n",
    "with open('../deploy/test.json', 'w') as f:\n",
    "    json.dump(data, f)"
   ]
  },
  {
   "cell_type": "markdown",
   "metadata": {},
   "source": [
    "### Save labels for testing"
   ]
  },
  {
   "cell_type": "code",
   "execution_count": 226,
   "metadata": {},
   "outputs": [],
   "source": [
    "np.savetxt('../deploy/labels.csv', y_test[0:10].astype(int), fmt='%i', delimiter=',')"
   ]
  }
 ],
 "metadata": {
  "kernelspec": {
   "display_name": "Python 3",
   "language": "python",
   "name": "python3"
  },
  "language_info": {
   "codemirror_mode": {
    "name": "ipython",
    "version": 3
   },
   "file_extension": ".py",
   "mimetype": "text/x-python",
   "name": "python",
   "nbconvert_exporter": "python",
   "pygments_lexer": "ipython3",
   "version": "3.6.8"
  }
 },
 "nbformat": 4,
 "nbformat_minor": 4
}
