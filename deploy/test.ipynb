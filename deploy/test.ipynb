{
 "cells": [
  {
   "cell_type": "code",
   "execution_count": 20,
   "metadata": {},
   "outputs": [],
   "source": [
    "import requests\n",
    "import json\n",
    "import csv\n",
    "import numpy as np"
   ]
  },
  {
   "cell_type": "code",
   "execution_count": 2,
   "metadata": {},
   "outputs": [
    {
     "name": "stdout",
     "output_type": "stream",
     "text": [
      "http://35.228.63.71:8501/v1/models/cnn_fashion:predict\n"
     ]
    }
   ],
   "source": [
    "IP = '35.228.63.71' # IP of LoadBalancer\n",
    "PORT = '8501' \n",
    "MODEL_NAME = 'cnn_fashion'\n",
    "FULL_ADDRESS = 'http://{}:{}/v1/models/{}:predict'.format(IP, PORT, MODEL_NAME)\n",
    "print(FULL_ADDRESS)"
   ]
  },
  {
   "cell_type": "code",
   "execution_count": 43,
   "metadata": {},
   "outputs": [],
   "source": [
    "# Load data\n",
    "with open('test.json') as f:\n",
    "    data = json.load(f)\n",
    "    import csv\n",
    "\n",
    "# Load labels\n",
    "with open('labels.csv') as f:\n",
    "    reader = csv.reader(f)\n",
    "    labels = list(reader)"
   ]
  },
  {
   "cell_type": "code",
   "execution_count": 44,
   "metadata": {},
   "outputs": [],
   "source": [
    "headers = {\"content-type\": \"application/json\"}\n",
    "response = requests.post(FULL_ADDRESS, data=data, headers=headers)\n",
    "predictions = json.loads(response.text)['predictions']"
   ]
  },
  {
   "cell_type": "code",
   "execution_count": 45,
   "metadata": {},
   "outputs": [
    {
     "name": "stdout",
     "output_type": "stream",
     "text": [
      "Predicted: 9 \tActual: ['9']\n",
      "Predicted: 2 \tActual: ['2']\n",
      "Predicted: 1 \tActual: ['1']\n",
      "Predicted: 1 \tActual: ['1']\n",
      "Predicted: 6 \tActual: ['6']\n",
      "Predicted: 1 \tActual: ['1']\n",
      "Predicted: 4 \tActual: ['4']\n",
      "Predicted: 6 \tActual: ['6']\n",
      "Predicted: 5 \tActual: ['5']\n",
      "Predicted: 7 \tActual: ['7']\n"
     ]
    }
   ],
   "source": [
    "# Format for easier comparison\n",
    "predicted_labels = [np.argmax(i) for i in predictions]\n",
    "\n",
    "for prediction, label in zip(predicted_labels, labels):\n",
    "    print(\"Predicted: {} \\tActual: {}\".format(prediction, label) )"
   ]
  },
  {
   "cell_type": "markdown",
   "metadata": {},
   "source": [
    "All of the labels were predicted correctly"
   ]
  }
 ],
 "metadata": {
  "kernelspec": {
   "display_name": "Python 3",
   "language": "python",
   "name": "python3"
  },
  "language_info": {
   "codemirror_mode": {
    "name": "ipython",
    "version": 3
   },
   "file_extension": ".py",
   "mimetype": "text/x-python",
   "name": "python",
   "nbconvert_exporter": "python",
   "pygments_lexer": "ipython3",
   "version": "3.6.8"
  }
 },
 "nbformat": 4,
 "nbformat_minor": 4
}
